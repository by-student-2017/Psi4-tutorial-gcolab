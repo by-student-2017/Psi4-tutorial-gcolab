{
  "nbformat": 4,
  "nbformat_minor": 0,
  "metadata": {
    "colab": {
      "name": "Untitled0.ipynb",
      "provenance": []
    },
    "kernelspec": {
      "name": "python3",
      "display_name": "Python 3"
    },
    "language_info": {
      "name": "python"
    }
  },
  "cells": [
    {
      "cell_type": "code",
      "execution_count": 1,
      "metadata": {
        "colab": {
          "base_uri": "https://localhost:8080/"
        },
        "id": "GFWTdwYtRilj",
        "outputId": "9b387914-e3bb-4df3-8d3b-cc8b50b8fb58"
      },
      "outputs": [
        {
          "output_type": "stream",
          "name": "stdout",
          "text": [
            "--2022-04-23 07:22:42--  https://repo.continuum.io/miniconda/Miniconda3-latest-Linux-x86_64.sh\n",
            "Resolving repo.continuum.io (repo.continuum.io)... 104.18.200.79, 104.18.201.79, 2606:4700::6812:c94f, ...\n",
            "Connecting to repo.continuum.io (repo.continuum.io)|104.18.200.79|:443... connected.\n",
            "HTTP request sent, awaiting response... 301 Moved Permanently\n",
            "Location: https://repo.anaconda.com/miniconda/Miniconda3-latest-Linux-x86_64.sh [following]\n",
            "--2022-04-23 07:22:43--  https://repo.anaconda.com/miniconda/Miniconda3-latest-Linux-x86_64.sh\n",
            "Resolving repo.anaconda.com (repo.anaconda.com)... 104.16.130.3, 104.16.131.3, 2606:4700::6810:8203, ...\n",
            "Connecting to repo.anaconda.com (repo.anaconda.com)|104.16.130.3|:443... connected.\n",
            "HTTP request sent, awaiting response... 200 OK\n",
            "Length: 75660608 (72M) [application/x-sh]\n",
            "Saving to: ‘Miniconda3-latest-Linux-x86_64.sh’\n",
            "\n",
            "Miniconda3-latest-L 100%[===================>]  72.16M  99.3MB/s    in 0.7s    \n",
            "\n",
            "2022-04-23 07:22:43 (99.3 MB/s) - ‘Miniconda3-latest-Linux-x86_64.sh’ saved [75660608/75660608]\n",
            "\n",
            "PREFIX=/usr/local\n",
            "Unpacking payload ...\n",
            "Collecting package metadata (current_repodata.json): - \b\b\\ \b\b| \b\bdone\n",
            "Solving environment: - \b\b\\ \b\b| \b\bdone\n",
            "\n",
            "## Package Plan ##\n",
            "\n",
            "  environment location: /usr/local\n",
            "\n",
            "  added / updated specs:\n",
            "    - _libgcc_mutex==0.1=main\n",
            "    - _openmp_mutex==4.5=1_gnu\n",
            "    - brotlipy==0.7.0=py39h27cfd23_1003\n",
            "    - ca-certificates==2021.10.26=h06a4308_2\n",
            "    - certifi==2021.10.8=py39h06a4308_2\n",
            "    - cffi==1.15.0=py39hd667e15_1\n",
            "    - charset-normalizer==2.0.4=pyhd3eb1b0_0\n",
            "    - conda-content-trust==0.1.1=pyhd3eb1b0_0\n",
            "    - conda-package-handling==1.7.3=py39h27cfd23_1\n",
            "    - conda==4.11.0=py39h06a4308_0\n",
            "    - cryptography==36.0.0=py39h9ce1e76_0\n",
            "    - idna==3.3=pyhd3eb1b0_0\n",
            "    - ld_impl_linux-64==2.35.1=h7274673_9\n",
            "    - libffi==3.3=he6710b0_2\n",
            "    - libgcc-ng==9.3.0=h5101ec6_17\n",
            "    - libgomp==9.3.0=h5101ec6_17\n",
            "    - libstdcxx-ng==9.3.0=hd4cf53a_17\n",
            "    - ncurses==6.3=h7f8727e_2\n",
            "    - openssl==1.1.1m=h7f8727e_0\n",
            "    - pip==21.2.4=py39h06a4308_0\n",
            "    - pycosat==0.6.3=py39h27cfd23_0\n",
            "    - pycparser==2.21=pyhd3eb1b0_0\n",
            "    - pyopenssl==21.0.0=pyhd3eb1b0_1\n",
            "    - pysocks==1.7.1=py39h06a4308_0\n",
            "    - python==3.9.7=h12debd9_1\n",
            "    - readline==8.1.2=h7f8727e_1\n",
            "    - requests==2.27.1=pyhd3eb1b0_0\n",
            "    - ruamel_yaml==0.15.100=py39h27cfd23_0\n",
            "    - setuptools==58.0.4=py39h06a4308_0\n",
            "    - six==1.16.0=pyhd3eb1b0_0\n",
            "    - sqlite==3.37.0=hc218d9a_0\n",
            "    - tk==8.6.11=h1ccaba5_0\n",
            "    - tqdm==4.62.3=pyhd3eb1b0_1\n",
            "    - tzdata==2021e=hda174b7_0\n",
            "    - urllib3==1.26.7=pyhd3eb1b0_0\n",
            "    - wheel==0.37.1=pyhd3eb1b0_0\n",
            "    - xz==5.2.5=h7b6447c_0\n",
            "    - yaml==0.2.5=h7b6447c_0\n",
            "    - zlib==1.2.11=h7f8727e_4\n",
            "\n",
            "\n",
            "The following NEW packages will be INSTALLED:\n",
            "\n",
            "  _libgcc_mutex      pkgs/main/linux-64::_libgcc_mutex-0.1-main\n",
            "  _openmp_mutex      pkgs/main/linux-64::_openmp_mutex-4.5-1_gnu\n",
            "  brotlipy           pkgs/main/linux-64::brotlipy-0.7.0-py39h27cfd23_1003\n",
            "  ca-certificates    pkgs/main/linux-64::ca-certificates-2021.10.26-h06a4308_2\n",
            "  certifi            pkgs/main/linux-64::certifi-2021.10.8-py39h06a4308_2\n",
            "  cffi               pkgs/main/linux-64::cffi-1.15.0-py39hd667e15_1\n",
            "  charset-normalizer pkgs/main/noarch::charset-normalizer-2.0.4-pyhd3eb1b0_0\n",
            "  conda              pkgs/main/linux-64::conda-4.11.0-py39h06a4308_0\n",
            "  conda-content-tru~ pkgs/main/noarch::conda-content-trust-0.1.1-pyhd3eb1b0_0\n",
            "  conda-package-han~ pkgs/main/linux-64::conda-package-handling-1.7.3-py39h27cfd23_1\n",
            "  cryptography       pkgs/main/linux-64::cryptography-36.0.0-py39h9ce1e76_0\n",
            "  idna               pkgs/main/noarch::idna-3.3-pyhd3eb1b0_0\n",
            "  ld_impl_linux-64   pkgs/main/linux-64::ld_impl_linux-64-2.35.1-h7274673_9\n",
            "  libffi             pkgs/main/linux-64::libffi-3.3-he6710b0_2\n",
            "  libgcc-ng          pkgs/main/linux-64::libgcc-ng-9.3.0-h5101ec6_17\n",
            "  libgomp            pkgs/main/linux-64::libgomp-9.3.0-h5101ec6_17\n",
            "  libstdcxx-ng       pkgs/main/linux-64::libstdcxx-ng-9.3.0-hd4cf53a_17\n",
            "  ncurses            pkgs/main/linux-64::ncurses-6.3-h7f8727e_2\n",
            "  openssl            pkgs/main/linux-64::openssl-1.1.1m-h7f8727e_0\n",
            "  pip                pkgs/main/linux-64::pip-21.2.4-py39h06a4308_0\n",
            "  pycosat            pkgs/main/linux-64::pycosat-0.6.3-py39h27cfd23_0\n",
            "  pycparser          pkgs/main/noarch::pycparser-2.21-pyhd3eb1b0_0\n",
            "  pyopenssl          pkgs/main/noarch::pyopenssl-21.0.0-pyhd3eb1b0_1\n",
            "  pysocks            pkgs/main/linux-64::pysocks-1.7.1-py39h06a4308_0\n",
            "  python             pkgs/main/linux-64::python-3.9.7-h12debd9_1\n",
            "  readline           pkgs/main/linux-64::readline-8.1.2-h7f8727e_1\n",
            "  requests           pkgs/main/noarch::requests-2.27.1-pyhd3eb1b0_0\n",
            "  ruamel_yaml        pkgs/main/linux-64::ruamel_yaml-0.15.100-py39h27cfd23_0\n",
            "  setuptools         pkgs/main/linux-64::setuptools-58.0.4-py39h06a4308_0\n",
            "  six                pkgs/main/noarch::six-1.16.0-pyhd3eb1b0_0\n",
            "  sqlite             pkgs/main/linux-64::sqlite-3.37.0-hc218d9a_0\n",
            "  tk                 pkgs/main/linux-64::tk-8.6.11-h1ccaba5_0\n",
            "  tqdm               pkgs/main/noarch::tqdm-4.62.3-pyhd3eb1b0_1\n",
            "  tzdata             pkgs/main/noarch::tzdata-2021e-hda174b7_0\n",
            "  urllib3            pkgs/main/noarch::urllib3-1.26.7-pyhd3eb1b0_0\n",
            "  wheel              pkgs/main/noarch::wheel-0.37.1-pyhd3eb1b0_0\n",
            "  xz                 pkgs/main/linux-64::xz-5.2.5-h7b6447c_0\n",
            "  yaml               pkgs/main/linux-64::yaml-0.2.5-h7b6447c_0\n",
            "  zlib               pkgs/main/linux-64::zlib-1.2.11-h7f8727e_4\n",
            "\n",
            "\n",
            "Preparing transaction: - \b\b\\ \b\b| \b\b/ \b\bdone\n",
            "Executing transaction: \\ \b\b| \b\b/ \b\b- \b\b\\ \b\b| \b\b/ \b\b- \b\b\\ \b\b| \b\b/ \b\b- \b\b\\ \b\b| \b\b/ \b\b- \b\b\\ \b\bdone\n",
            "installation finished.\n",
            "WARNING:\n",
            "    You currently have a PYTHONPATH environment variable set. This may cause\n",
            "    unexpected behavior when running the Python interpreter in Miniconda3.\n",
            "    For best results, please verify that your PYTHONPATH only points to\n",
            "    directories of packages that are compatible with the Python interpreter\n",
            "    in Miniconda3: /usr/local\n",
            "Collecting package metadata (current_repodata.json): - \b\b\\ \b\b| \b\b/ \b\b- \b\b\\ \b\b| \b\b/ \b\b- \b\b\\ \b\b| \b\b/ \b\b- \b\b\\ \b\b| \b\b/ \b\b- \b\b\\ \b\b| \b\b/ \b\bdone\n",
            "Solving environment: \\ \b\b| \b\b/ \b\b- \b\b\\ \b\b| \b\b/ \b\b- \b\b\\ \b\b| \b\b/ \b\b- \b\b\\ \b\bdone\n",
            "\n",
            "## Package Plan ##\n",
            "\n",
            "  environment location: /usr/local\n",
            "\n",
            "  added / updated specs:\n",
            "    - psi4\n",
            "    - python=3.7\n",
            "\n",
            "\n",
            "The following packages will be downloaded:\n",
            "\n",
            "    package                    |            build\n",
            "    ---------------------------|-----------------\n",
            "    ambit-0.5.1                |       hbe8a562_1         488 KB  psi4\n",
            "    attrs-21.4.0               |     pyhd3eb1b0_0          51 KB\n",
            "    blas-1.0                   |              mkl           6 KB\n",
            "    brotlipy-0.7.0             |py37h27cfd23_1003         320 KB\n",
            "    ca-certificates-2022.3.29  |       h06a4308_1         122 KB\n",
            "    certifi-2021.10.8          |   py37h06a4308_2         151 KB\n",
            "    cffi-1.15.0                |   py37hd667e15_1         222 KB\n",
            "    chemps2-1.8.10             |       hbe8a562_0         2.4 MB  psi4\n",
            "    conda-4.12.0               |   py37h06a4308_0        14.5 MB\n",
            "    conda-package-handling-1.8.1|   py37h7f8727e_0         889 KB\n",
            "    cryptography-36.0.0        |   py37h9ce1e76_0         1.3 MB\n",
            "    decorator-5.1.1            |     pyhd3eb1b0_0          12 KB\n",
            "    dftd3-3.2.1                |       h84218bc_2         2.0 MB  psi4\n",
            "    dkh-1.2                    |       h173d85e_2         407 KB  psi4\n",
            "    gau2grid-2.0.7             |       hd18ef5c_0         1.2 MB  psi4\n",
            "    gcp-2.0.2                  |       he991be0_2         605 KB  psi4\n",
            "    gdma-2.2.6                 |       h0e1e685_6         762 KB  psi4\n",
            "    hdf5-1.10.6                |       hb1b8bf9_0         3.7 MB\n",
            "    importlib-metadata-4.11.3  |   py37h06a4308_0          40 KB\n",
            "    importlib_metadata-4.11.3  |       hd3eb1b0_0          12 KB\n",
            "    importlib_resources-5.2.0  |     pyhd3eb1b0_1          21 KB\n",
            "    iniconfig-1.1.1            |     pyhd3eb1b0_0           8 KB\n",
            "    intel-openmp-2021.4.0      |    h06a4308_3561         4.2 MB\n",
            "    libgfortran-ng-7.5.0       |      ha8ba4b0_17          22 KB\n",
            "    libgfortran4-7.5.0         |      ha8ba4b0_17         995 KB\n",
            "    libint2-2.6.0              |       hc9558a2_9       361.9 MB  psi4\n",
            "    libxc-5.1.5                |       h84b9e52_1         7.1 MB  psi4\n",
            "    mkl-2021.4.0               |     h06a4308_640       142.6 MB\n",
            "    mkl-service-2.4.0          |   py37h7f8727e_0          56 KB\n",
            "    mkl_fft-1.3.1              |   py37hd3c417c_0         172 KB\n",
            "    mkl_random-1.2.2           |   py37h51133e4_0         287 KB\n",
            "    networkx-2.2               |           py37_1         1.6 MB\n",
            "    numpy-1.21.5               |   py37he7a7128_1          24 KB\n",
            "    numpy-base-1.21.5          |   py37hf524024_1         4.8 MB\n",
            "    openssl-1.1.1n             |       h7f8727e_0         2.5 MB\n",
            "    packaging-21.3             |     pyhd3eb1b0_0          36 KB\n",
            "    pcmsolver-1.2.1.1          |   py37h6d17ec8_2         2.3 MB  psi4\n",
            "    pint-0.17                  |     pyhd8ed1ab_0         168 KB  psi4\n",
            "    pip-21.2.2                 |   py37h06a4308_0         1.8 MB\n",
            "    pluggy-1.0.0               |   py37h06a4308_1          29 KB\n",
            "    psi4-1.5+e9f4d6d           |   py37hbf93d9d_0        37.7 MB  psi4\n",
            "    psutil-5.8.0               |   py37h27cfd23_1         329 KB\n",
            "    py-1.11.0                  |     pyhd3eb1b0_0          76 KB\n",
            "    py-cpuinfo-8.0.0           |     pyhd3eb1b0_1          23 KB\n",
            "    pycosat-0.6.3              |   py37h27cfd23_0          81 KB\n",
            "    pydantic-1.9.0             |   py37h7f8727e_0         1.8 MB\n",
            "    pyparsing-3.0.4            |     pyhd3eb1b0_0          81 KB\n",
            "    pysocks-1.7.1              |           py37_1          27 KB\n",
            "    pytest-7.1.1               |   py37h06a4308_0         454 KB\n",
            "    python-3.7.11              |       h12debd9_0        45.3 MB\n",
            "    pyyaml-6.0                 |   py37h7f8727e_1         168 KB\n",
            "    qcelemental-0.24.0         |     pyhd8ed1ab_0         240 KB  psi4\n",
            "    qcengine-0.23.0            |     pyhd8ed1ab_0         195 KB  psi4\n",
            "    ruamel_yaml-0.15.100       |   py37h27cfd23_0         253 KB\n",
            "    setuptools-61.2.0          |   py37h06a4308_0        1007 KB\n",
            "    simint-0.7                 |       h642920c_1         9.6 MB  psi4\n",
            "    tomli-1.2.2                |     pyhd3eb1b0_0          17 KB\n",
            "    typing-extensions-4.1.1    |       hd3eb1b0_0           8 KB\n",
            "    typing_extensions-4.1.1    |     pyh06a4308_0          28 KB\n",
            "    zipp-3.7.0                 |     pyhd3eb1b0_0          12 KB\n",
            "    ------------------------------------------------------------\n",
            "                                           Total:       657.0 MB\n",
            "\n",
            "The following NEW packages will be INSTALLED:\n",
            "\n",
            "  ambit              psi4/linux-64::ambit-0.5.1-hbe8a562_1\n",
            "  attrs              pkgs/main/noarch::attrs-21.4.0-pyhd3eb1b0_0\n",
            "  blas               pkgs/main/linux-64::blas-1.0-mkl\n",
            "  chemps2            psi4/linux-64::chemps2-1.8.10-hbe8a562_0\n",
            "  decorator          pkgs/main/noarch::decorator-5.1.1-pyhd3eb1b0_0\n",
            "  dftd3              psi4/linux-64::dftd3-3.2.1-h84218bc_2\n",
            "  dkh                psi4/linux-64::dkh-1.2-h173d85e_2\n",
            "  gau2grid           psi4/linux-64::gau2grid-2.0.7-hd18ef5c_0\n",
            "  gcp                psi4/linux-64::gcp-2.0.2-he991be0_2\n",
            "  gdma               psi4/linux-64::gdma-2.2.6-h0e1e685_6\n",
            "  hdf5               pkgs/main/linux-64::hdf5-1.10.6-hb1b8bf9_0\n",
            "  importlib-metadata pkgs/main/linux-64::importlib-metadata-4.11.3-py37h06a4308_0\n",
            "  importlib_metadata pkgs/main/noarch::importlib_metadata-4.11.3-hd3eb1b0_0\n",
            "  importlib_resourc~ pkgs/main/noarch::importlib_resources-5.2.0-pyhd3eb1b0_1\n",
            "  iniconfig          pkgs/main/noarch::iniconfig-1.1.1-pyhd3eb1b0_0\n",
            "  intel-openmp       pkgs/main/linux-64::intel-openmp-2021.4.0-h06a4308_3561\n",
            "  libgfortran-ng     pkgs/main/linux-64::libgfortran-ng-7.5.0-ha8ba4b0_17\n",
            "  libgfortran4       pkgs/main/linux-64::libgfortran4-7.5.0-ha8ba4b0_17\n",
            "  libint2            psi4/linux-64::libint2-2.6.0-hc9558a2_9\n",
            "  libxc              psi4/linux-64::libxc-5.1.5-h84b9e52_1\n",
            "  mkl                pkgs/main/linux-64::mkl-2021.4.0-h06a4308_640\n",
            "  mkl-service        pkgs/main/linux-64::mkl-service-2.4.0-py37h7f8727e_0\n",
            "  mkl_fft            pkgs/main/linux-64::mkl_fft-1.3.1-py37hd3c417c_0\n",
            "  mkl_random         pkgs/main/linux-64::mkl_random-1.2.2-py37h51133e4_0\n",
            "  networkx           pkgs/main/linux-64::networkx-2.2-py37_1\n",
            "  numpy              pkgs/main/linux-64::numpy-1.21.5-py37he7a7128_1\n",
            "  numpy-base         pkgs/main/linux-64::numpy-base-1.21.5-py37hf524024_1\n",
            "  packaging          pkgs/main/noarch::packaging-21.3-pyhd3eb1b0_0\n",
            "  pcmsolver          psi4/linux-64::pcmsolver-1.2.1.1-py37h6d17ec8_2\n",
            "  pint               psi4/noarch::pint-0.17-pyhd8ed1ab_0\n",
            "  pluggy             pkgs/main/linux-64::pluggy-1.0.0-py37h06a4308_1\n",
            "  psi4               psi4/linux-64::psi4-1.5+e9f4d6d-py37hbf93d9d_0\n",
            "  psutil             pkgs/main/linux-64::psutil-5.8.0-py37h27cfd23_1\n",
            "  py                 pkgs/main/noarch::py-1.11.0-pyhd3eb1b0_0\n",
            "  py-cpuinfo         pkgs/main/noarch::py-cpuinfo-8.0.0-pyhd3eb1b0_1\n",
            "  pydantic           pkgs/main/linux-64::pydantic-1.9.0-py37h7f8727e_0\n",
            "  pyparsing          pkgs/main/noarch::pyparsing-3.0.4-pyhd3eb1b0_0\n",
            "  pytest             pkgs/main/linux-64::pytest-7.1.1-py37h06a4308_0\n",
            "  pyyaml             pkgs/main/linux-64::pyyaml-6.0-py37h7f8727e_1\n",
            "  qcelemental        psi4/noarch::qcelemental-0.24.0-pyhd8ed1ab_0\n",
            "  qcengine           psi4/noarch::qcengine-0.23.0-pyhd8ed1ab_0\n",
            "  simint             psi4/linux-64::simint-0.7-h642920c_1\n",
            "  tomli              pkgs/main/noarch::tomli-1.2.2-pyhd3eb1b0_0\n",
            "  typing-extensions  pkgs/main/noarch::typing-extensions-4.1.1-hd3eb1b0_0\n",
            "  typing_extensions  pkgs/main/noarch::typing_extensions-4.1.1-pyh06a4308_0\n",
            "  zipp               pkgs/main/noarch::zipp-3.7.0-pyhd3eb1b0_0\n",
            "\n",
            "The following packages will be UPDATED:\n",
            "\n",
            "  ca-certificates                     2021.10.26-h06a4308_2 --> 2022.3.29-h06a4308_1\n",
            "  conda                               4.11.0-py39h06a4308_0 --> 4.12.0-py37h06a4308_0\n",
            "  conda-package-han~                   1.7.3-py39h27cfd23_1 --> 1.8.1-py37h7f8727e_0\n",
            "  openssl                                 1.1.1m-h7f8727e_0 --> 1.1.1n-h7f8727e_0\n",
            "  pysocks                              1.7.1-py39h06a4308_0 --> 1.7.1-py37_1\n",
            "  setuptools                          58.0.4-py39h06a4308_0 --> 61.2.0-py37h06a4308_0\n",
            "\n",
            "The following packages will be DOWNGRADED:\n",
            "\n",
            "  brotlipy                          0.7.0-py39h27cfd23_1003 --> 0.7.0-py37h27cfd23_1003\n",
            "  certifi                          2021.10.8-py39h06a4308_2 --> 2021.10.8-py37h06a4308_2\n",
            "  cffi                                1.15.0-py39hd667e15_1 --> 1.15.0-py37hd667e15_1\n",
            "  cryptography                        36.0.0-py39h9ce1e76_0 --> 36.0.0-py37h9ce1e76_0\n",
            "  pip                                 21.2.4-py39h06a4308_0 --> 21.2.2-py37h06a4308_0\n",
            "  pycosat                              0.6.3-py39h27cfd23_0 --> 0.6.3-py37h27cfd23_0\n",
            "  python                                   3.9.7-h12debd9_1 --> 3.7.11-h12debd9_0\n",
            "  ruamel_yaml                       0.15.100-py39h27cfd23_0 --> 0.15.100-py37h27cfd23_0\n",
            "\n",
            "\n",
            "\n",
            "Downloading and Extracting Packages\n",
            "attrs-21.4.0         | 51 KB     | : 100% 1.0/1 [00:00<00:00, 11.37it/s]\n",
            "dkh-1.2              | 407 KB    | : 100% 1.0/1 [00:00<00:00,  2.34it/s]\n",
            "mkl-service-2.4.0    | 56 KB     | : 100% 1.0/1 [00:00<00:00, 17.56it/s]\n",
            "numpy-base-1.21.5    | 4.8 MB    | : 100% 1.0/1 [00:00<00:00,  2.83it/s]               \n",
            "packaging-21.3       | 36 KB     | : 100% 1.0/1 [00:00<00:00, 18.36it/s]\n",
            "chemps2-1.8.10       | 2.4 MB    | : 100% 1.0/1 [00:00<00:00,  1.12it/s]\n",
            "ruamel_yaml-0.15.100 | 253 KB    | : 100% 1.0/1 [00:00<00:00, 16.24it/s]\n",
            "hdf5-1.10.6          | 3.7 MB    | : 100% 1.0/1 [00:00<00:00,  6.33it/s]\n",
            "typing-extensions-4. | 8 KB      | : 100% 1.0/1 [00:00<00:00, 19.18it/s]\n",
            "qcelemental-0.24.0   | 240 KB    | : 100% 1.0/1 [00:00<00:00,  2.69it/s]\n",
            "gdma-2.2.6           | 762 KB    | : 100% 1.0/1 [00:00<00:00,  2.43it/s]\n",
            "dftd3-3.2.1          | 2.0 MB    | : 100% 1.0/1 [00:00<00:00,  1.54it/s]\n",
            "pycosat-0.6.3        | 81 KB     | : 100% 1.0/1 [00:00<00:00, 15.74it/s]\n",
            "certifi-2021.10.8    | 151 KB    | : 100% 1.0/1 [00:00<00:00, 17.20it/s]\n",
            "typing_extensions-4. | 28 KB     | : 100% 1.0/1 [00:00<00:00, 19.13it/s]\n",
            "ambit-0.5.1          | 488 KB    | : 100% 1.0/1 [00:00<00:00,  2.73it/s]\n",
            "gau2grid-2.0.7       | 1.2 MB    | : 100% 1.0/1 [00:00<00:00,  1.70it/s]\n",
            "simint-0.7           | 9.6 MB    | : 100% 1.0/1 [00:02<00:00,  2.42s/it]\n",
            "psutil-5.8.0         | 329 KB    | : 100% 1.0/1 [00:00<00:00, 15.13it/s]\n",
            "pytest-7.1.1         | 454 KB    | : 100% 1.0/1 [00:00<00:00, 10.93it/s]\n",
            "pydantic-1.9.0       | 1.8 MB    | : 100% 1.0/1 [00:00<00:00,  8.36it/s]\n",
            "libxc-5.1.5          | 7.1 MB    | : 100% 1.0/1 [00:01<00:00,  1.59s/it]\n",
            "iniconfig-1.1.1      | 8 KB      | : 100% 1.0/1 [00:00<00:00, 34.74it/s]\n",
            "networkx-2.2         | 1.6 MB    | : 100% 1.0/1 [00:00<00:00,  4.94it/s]\n",
            "pint-0.17            | 168 KB    | : 100% 1.0/1 [00:00<00:00,  2.87it/s]\n",
            "mkl_fft-1.3.1        | 172 KB    | : 100% 1.0/1 [00:00<00:00, 18.96it/s]\n",
            "mkl_random-1.2.2     | 287 KB    | : 100% 1.0/1 [00:00<00:00, 16.20it/s]\n",
            "intel-openmp-2021.4. | 4.2 MB    | : 100% 1.0/1 [00:00<00:00,  4.11it/s]\n",
            "libgfortran-ng-7.5.0 | 22 KB     | : 100% 1.0/1 [00:00<00:00, 19.62it/s]\n",
            "pip-21.2.2           | 1.8 MB    | : 100% 1.0/1 [00:00<00:00,  1.86it/s]\n",
            "ca-certificates-2022 | 122 KB    | : 100% 1.0/1 [00:00<00:00, 19.76it/s]\n",
            "cryptography-36.0.0  | 1.3 MB    | : 100% 1.0/1 [00:00<00:00,  9.03it/s]\n",
            "decorator-5.1.1      | 12 KB     | : 100% 1.0/1 [00:00<00:00, 15.73it/s]\n",
            "zipp-3.7.0           | 12 KB     | : 100% 1.0/1 [00:00<00:00, 20.35it/s]\n",
            "qcengine-0.23.0      | 195 KB    | : 100% 1.0/1 [00:00<00:00,  3.01it/s]\n",
            "importlib_metadata-4 | 12 KB     | : 100% 1.0/1 [00:00<00:00, 19.60it/s]\n",
            "psi4-1.5+e9f4d6d     | 37.7 MB   | : 100% 1.0/1 [00:09<00:00,  9.31s/it]\n",
            "pcmsolver-1.2.1.1    | 2.3 MB    | : 100% 1.0/1 [00:00<00:00,  1.27it/s]\n",
            "pysocks-1.7.1        | 27 KB     | : 100% 1.0/1 [00:00<00:00, 20.79it/s]\n",
            "libgfortran4-7.5.0   | 995 KB    | : 100% 1.0/1 [00:00<00:00, 11.72it/s]\n",
            "importlib-metadata-4 | 40 KB     | : 100% 1.0/1 [00:00<00:00, 18.93it/s]\n",
            "conda-4.12.0         | 14.5 MB   | : 100% 1.0/1 [00:00<00:00,  1.41it/s]               \n",
            "importlib_resources- | 21 KB     | : 100% 1.0/1 [00:00<00:00, 14.95it/s]\n",
            "py-cpuinfo-8.0.0     | 23 KB     | : 100% 1.0/1 [00:00<00:00, 16.57it/s]\n",
            "numpy-1.21.5         | 24 KB     | : 100% 1.0/1 [00:00<00:00, 14.16it/s]\n",
            "pyparsing-3.0.4      | 81 KB     | : 100% 1.0/1 [00:00<00:00, 17.96it/s]\n",
            "libint2-2.6.0        | 361.9 MB  | : 100% 1.0/1 [01:20<00:00, 80.92s/it]\n",
            "blas-1.0             | 6 KB      | : 100% 1.0/1 [00:00<00:00, 19.03it/s]\n",
            "py-1.11.0            | 76 KB     | : 100% 1.0/1 [00:00<00:00, 17.22it/s]\n",
            "cffi-1.15.0          | 222 KB    | : 100% 1.0/1 [00:00<00:00, 16.00it/s]\n",
            "pluggy-1.0.0         | 29 KB     | : 100% 1.0/1 [00:00<00:00, 19.37it/s]\n",
            "gcp-2.0.2            | 605 KB    | : 100% 1.0/1 [00:00<00:00,  2.61it/s]\n",
            "pyyaml-6.0           | 168 KB    | : 100% 1.0/1 [00:00<00:00, 13.55it/s]\n",
            "python-3.7.11        | 45.3 MB   | : 100% 1.0/1 [00:01<00:00,  1.14s/it]               \n",
            "mkl-2021.4.0         | 142.6 MB  | : 100% 1.0/1 [00:05<00:00,  5.54s/it]              \n",
            "brotlipy-0.7.0       | 320 KB    | : 100% 1.0/1 [00:00<00:00, 10.64it/s]\n",
            "tomli-1.2.2          | 17 KB     | : 100% 1.0/1 [00:00<00:00, 16.94it/s]\n",
            "conda-package-handli | 889 KB    | : 100% 1.0/1 [00:00<00:00, 11.74it/s]\n",
            "setuptools-61.2.0    | 1007 KB   | : 100% 1.0/1 [00:00<00:00,  6.01it/s]\n",
            "openssl-1.1.1n       | 2.5 MB    | : 100% 1.0/1 [00:00<00:00,  6.18it/s]\n",
            "Preparing transaction: / \b\b- \b\b\\ \b\b| \b\b/ \b\bdone\n",
            "Verifying transaction: \\ \b\b| \b\b/ \b\b- \b\b\\ \b\b| \b\b/ \b\b- \b\b\\ \b\b| \b\b/ \b\b- \b\b\\ \b\b| \b\b/ \b\b- \b\bdone\n",
            "Executing transaction: | \b\b/ \b\b- \b\b\\ \b\b| \b\b/ \b\b- \b\b\\ \b\b| \b\b/ \b\b- \b\b\\ \b\b| \b\b/ \b\b- \b\b\\ \b\b| \b\b/ \b\b- \b\b\\ \b\b| \b\b/ \b\b- \b\b\\ \b\b| \b\b/ \b\b- \b\b\\ \b\b| \b\b/ \b\b- \b\b\\ \b\b| \b\b/ \b\b- \b\b\\ \b\b| \b\b/ \b\b- \b\b\\ \b\b| \b\b/ \b\b- \b\b\\ \b\b| \b\b/ \b\b- \b\b\\ \b\b| \b\b/ \b\b- \b\b\\ \b\b| \b\b/ \b\b- \b\b\\ \b\b| \b\b/ \b\b- \b\b\\ \b\b| \b\b/ \b\b- \b\b\\ \b\b| \b\b/ \b\b- \b\b\\ \b\b| \b\b/ \b\b- \b\b\\ \b\b| \b\b/ \b\b- \b\bdone\n",
            "Collecting distributed\n",
            "  Downloading distributed-2022.2.0-py3-none-any.whl (837 kB)\n",
            "\u001b[K     |████████████████████████████████| 837 kB 5.4 MB/s \n",
            "\u001b[?25hCollecting cloudpickle>=1.5.0\n",
            "  Downloading cloudpickle-2.0.0-py3-none-any.whl (25 kB)\n",
            "Collecting jinja2\n",
            "  Downloading Jinja2-3.1.1-py3-none-any.whl (132 kB)\n",
            "\u001b[K     |████████████████████████████████| 132 kB 62.3 MB/s \n",
            "\u001b[?25hRequirement already satisfied: psutil>=5.0 in /usr/local/lib/python3.7/site-packages (from distributed) (5.8.0)\n",
            "Collecting tblib>=1.6.0\n",
            "  Downloading tblib-1.7.0-py2.py3-none-any.whl (12 kB)\n",
            "Collecting sortedcontainers!=2.0.0,!=2.0.1\n",
            "  Downloading sortedcontainers-2.4.0-py2.py3-none-any.whl (29 kB)\n",
            "Requirement already satisfied: pyyaml in /usr/local/lib/python3.7/site-packages (from distributed) (6.0)\n",
            "Collecting click>=6.6\n",
            "  Downloading click-8.1.2-py3-none-any.whl (96 kB)\n",
            "\u001b[K     |████████████████████████████████| 96 kB 6.0 MB/s \n",
            "\u001b[?25hCollecting tornado>=5\n",
            "  Downloading tornado-6.1-cp37-cp37m-manylinux2010_x86_64.whl (428 kB)\n",
            "\u001b[K     |████████████████████████████████| 428 kB 54.7 MB/s \n",
            "\u001b[?25hRequirement already satisfied: setuptools in /usr/local/lib/python3.7/site-packages (from distributed) (61.2.0)\n",
            "Collecting msgpack>=0.6.0\n",
            "  Downloading msgpack-1.0.3-cp37-cp37m-manylinux_2_17_x86_64.manylinux2014_x86_64.whl (299 kB)\n",
            "\u001b[K     |████████████████████████████████| 299 kB 54.1 MB/s \n",
            "\u001b[?25hCollecting zict>=0.1.3\n",
            "  Downloading zict-2.1.0-py3-none-any.whl (11 kB)\n",
            "Collecting toolz>=0.8.2\n",
            "  Downloading toolz-0.11.2-py3-none-any.whl (55 kB)\n",
            "\u001b[K     |████████████████████████████████| 55 kB 3.8 MB/s \n",
            "\u001b[?25hRequirement already satisfied: packaging>=20.0 in /usr/local/lib/python3.7/site-packages (from distributed) (21.3)\n",
            "Collecting dask==2022.02.0\n",
            "  Downloading dask-2022.2.0-py3-none-any.whl (1.1 MB)\n",
            "\u001b[K     |████████████████████████████████| 1.1 MB 51.8 MB/s \n",
            "\u001b[?25hCollecting fsspec>=0.6.0\n",
            "  Downloading fsspec-2022.3.0-py3-none-any.whl (136 kB)\n",
            "\u001b[K     |████████████████████████████████| 136 kB 59.7 MB/s \n",
            "\u001b[?25hCollecting partd>=0.3.10\n",
            "  Downloading partd-1.2.0-py3-none-any.whl (19 kB)\n",
            "Requirement already satisfied: importlib-metadata in /usr/local/lib/python3.7/site-packages (from click>=6.6->distributed) (4.11.3)\n",
            "Requirement already satisfied: pyparsing!=3.0.5,>=2.0.2 in /usr/local/lib/python3.7/site-packages (from packaging>=20.0->distributed) (3.0.4)\n",
            "Collecting locket\n",
            "  Downloading locket-1.0.0-py2.py3-none-any.whl (4.4 kB)\n",
            "Collecting heapdict\n",
            "  Downloading HeapDict-1.0.1-py3-none-any.whl (3.9 kB)\n",
            "Requirement already satisfied: typing-extensions>=3.6.4 in /usr/local/lib/python3.7/site-packages (from importlib-metadata->click>=6.6->distributed) (4.1.1)\n",
            "Requirement already satisfied: zipp>=0.5 in /usr/local/lib/python3.7/site-packages (from importlib-metadata->click>=6.6->distributed) (3.7.0)\n",
            "Collecting MarkupSafe>=2.0\n",
            "  Downloading MarkupSafe-2.1.1-cp37-cp37m-manylinux_2_17_x86_64.manylinux2014_x86_64.whl (25 kB)\n",
            "Installing collected packages: toolz, locket, partd, MarkupSafe, heapdict, fsspec, cloudpickle, zict, tornado, tblib, sortedcontainers, msgpack, jinja2, dask, click, distributed\n",
            "Successfully installed MarkupSafe-2.1.1 click-8.1.2 cloudpickle-2.0.0 dask-2022.2.0 distributed-2022.2.0 fsspec-2022.3.0 heapdict-1.0.1 jinja2-3.1.1 locket-1.0.0 msgpack-1.0.3 partd-1.2.0 sortedcontainers-2.4.0 tblib-1.7.0 toolz-0.11.2 tornado-6.1 zict-2.1.0\n",
            "\u001b[33mWARNING: Running pip as the 'root' user can result in broken permissions and conflicting behaviour with the system package manager. It is recommended to use a virtual environment instead: https://pip.pypa.io/warnings/venv\u001b[0m\n"
          ]
        }
      ],
      "source": [
        "# set conda\n",
        "!wget -c https://repo.continuum.io/miniconda/Miniconda3-latest-Linux-x86_64.sh\n",
        "!chmod +x Miniconda3-latest-Linux-x86_64.sh\n",
        "!bash ./Miniconda3-latest-Linux-x86_64.sh -b -f -p /usr/local\n",
        "\n",
        "# install psi4\n",
        "!conda install -y psi4 python=3.7 -c psi4\n",
        "\n",
        "# install rdkit\n",
        "!conda install -q -y rdkit python=3.7 -c rdkit\n",
        "\n",
        "# set path\n",
        "import sys\n",
        "sys.path.append(\"/usr/local/lib/python3.7/site-packages/\")\n",
        "\n",
        "# this command is needed to avoid \"Loader\" error.\n",
        "!pip install distributed"
      ]
    },
    {
      "cell_type": "code",
      "source": [
        "# import Psi4\n",
        "import psi4\n",
        "# check Psi4 version\n",
        "print(psi4.__version__)"
      ],
      "metadata": {
        "colab": {
          "base_uri": "https://localhost:8080/"
        },
        "id": "qTQvw49YTSCm",
        "outputId": "9af06354-47f0-461a-de4c-c2a51d82f957"
      },
      "execution_count": 28,
      "outputs": [
        {
          "output_type": "stream",
          "name": "stdout",
          "text": [
            "1.5\n"
          ]
        }
      ]
    },
    {
      "cell_type": "code",
      "source": [
        "!pip install py3Dmol"
      ],
      "metadata": {
        "colab": {
          "base_uri": "https://localhost:8080/"
        },
        "id": "gOivYk0yTlj6",
        "outputId": "668961b0-3bb1-426a-8f38-198fb8fe8625"
      },
      "execution_count": 4,
      "outputs": [
        {
          "output_type": "stream",
          "name": "stdout",
          "text": [
            "Collecting py3Dmol\n",
            "  Downloading py3Dmol-1.8.0-py2.py3-none-any.whl (6.4 kB)\n",
            "Installing collected packages: py3Dmol\n",
            "Successfully installed py3Dmol-1.8.0\n",
            "\u001b[33mWARNING: Running pip as the 'root' user can result in broken permissions and conflicting behaviour with the system package manager. It is recommended to use a virtual environment instead: https://pip.pypa.io/warnings/venv\u001b[0m\n"
          ]
        }
      ]
    },
    {
      "cell_type": "code",
      "source": [
        "import py3Dmol\n",
        "print(py3Dmol.__version__)"
      ],
      "metadata": {
        "colab": {
          "base_uri": "https://localhost:8080/"
        },
        "id": "n1SS3cpjTpCp",
        "outputId": "295f59bc-95cd-40d7-d539-608252ba1659"
      },
      "execution_count": 29,
      "outputs": [
        {
          "output_type": "stream",
          "name": "stdout",
          "text": [
            "1.8.0\n"
          ]
        }
      ]
    },
    {
      "cell_type": "code",
      "source": [
        "import numpy as np\n",
        "import pandas as pd\n",
        "from rdkit import Chem\n",
        "from rdkit.Chem.rdDistGeom import ETKDGv3, EmbedMolecule\n",
        "from rdkit.Chem.rdForceFieldHelpers import MMFFHasAllMoleculeParams, MMFFOptimizeMolecule\n",
        "from rdkit.Chem.Draw import IPythonConsole\n",
        "import psi4\n",
        "import datetime\n",
        "import time"
      ],
      "metadata": {
        "id": "Vjqbbm8RTrtO"
      },
      "execution_count": 30,
      "outputs": []
    },
    {
      "cell_type": "code",
      "source": [
        "# Molecules to enter (acetylsalicylic acid)\n",
        "smiles = 'CC(=O)Oc1ccccc1C(=O)O'"
      ],
      "metadata": {
        "id": "Bdlu1yk_jUEh"
      },
      "execution_count": 32,
      "outputs": []
    },
    {
      "cell_type": "code",
      "source": [
        "# Decide the file name\n",
        "t = datetime.datetime.fromtimestamp(time.time())\n",
        "psi4.set_output_file(\"{}{}{}_{}{}_{}.log\".format(t.year,\n",
        "                                                t.month,\n",
        "                                                t.day,\n",
        "                                                t.hour,\n",
        "                                                t.minute,\n",
        "                                                smiles))\n",
        "\n",
        "# Coarse 3D structure optimization by generating 3D structure from SMILES\n",
        "mol = Chem.MolFromSmiles(smiles)\n",
        "mol = Chem.AddHs(mol)\n",
        "params = ETKDGv3()\n",
        "params.randomSeed = 1\n",
        "EmbedMolecule(mol, params)\n",
        "\n",
        "# Structural optimization with MMFF (Merck Molecular Force Field)\n",
        "MMFFOptimizeMolecule(mol)\n",
        "\n",
        "# UFF (Universal Force Field) If you want to optimize the structure in a universal force field\n",
        "# UFFOptimizeMolecule(mol)\n",
        "conf = mol.GetConformer()\n",
        "\n",
        "# Convert to a format that can be input to Psi4.\n",
        "# Set charge and spin multiplicity (below is charge 0, spin multiplicity 1)\n",
        "mol_input = \"0 1\"\n",
        "\n",
        "# Describe the coordinates of each atom in XYZ format\n",
        "for atom in mol.GetAtoms():\n",
        "    mol_input += \"\\n \" + atom.GetSymbol() + \" \" + str(conf.GetAtomPosition(atom.GetIdx()).x)\\\n",
        "    + \" \" + str(conf.GetAtomPosition(atom.GetIdx()).y)\\\n",
        "    + \" \" + str(conf.GetAtomPosition(atom.GetIdx()).z)"
      ],
      "metadata": {
        "id": "HyR83dTJUhpG"
      },
      "execution_count": 33,
      "outputs": []
    },
    {
      "cell_type": "code",
      "source": [
        "molecule = psi4.geometry(mol_input)\n",
        "print(molecule.save_string_xyz())\n",
        "#The unit is angstrom"
      ],
      "metadata": {
        "colab": {
          "base_uri": "https://localhost:8080/"
        },
        "id": "G8p0YT4QeeNR",
        "outputId": "b0f60af7-69d1-4690-e36f-f8a27fe90cfd"
      },
      "execution_count": 34,
      "outputs": [
        {
          "output_type": "stream",
          "name": "stdout",
          "text": [
            "0 1\n",
            " C    3.032393635519    0.379987195250   -1.751175348891\n",
            " C    1.580820720598    0.235305231205   -1.410386269425\n",
            " O    0.661201119534    0.787730265615   -2.005641285461\n",
            " O    1.445422135807   -0.572978573247   -0.290168277060\n",
            " C    0.111854042570   -0.841353090510    0.036837503776\n",
            " C   -0.365196879081   -2.117335767560   -0.273999546926\n",
            " C   -1.668561071975   -2.472883636928    0.077163910815\n",
            " C   -2.486114679461   -1.565394571841    0.753790907850\n",
            " C   -2.003341296834   -0.296713229781    1.080881149099\n",
            " C   -0.703296715872    0.070349984438    0.715381505772\n",
            " C   -0.240599586325    1.409474075394    1.110570146291\n",
            " O   -0.090143146425    1.738673963415    2.273415213567\n",
            " O   -0.086616250508    2.240796670268    0.060519440752\n",
            " H    3.543272093972    0.936392737972   -0.961786379846\n",
            " H    3.483683064785   -0.607005236873   -1.880992125072\n",
            " H    3.129531556998    0.928268818827   -2.692493573424\n",
            " H    0.272835672079   -2.835748520749   -0.781687334207\n",
            " H   -2.045195496321   -3.464149313463   -0.165733385441\n",
            " H   -3.496939248198   -1.850844367536    1.037159109465\n",
            " H   -2.636019986856    0.400613701516    1.626832860999\n",
            " H   -0.230485233841    1.825528885314   -0.823548510286\n",
            "\n"
          ]
        }
      ]
    },
    {
      "cell_type": "code",
      "source": [
        "def drawPsi4Geom(mol):\n",
        "    xyz = mol.save_string_xyz_file() \n",
        "    view = py3Dmol.view(width=400, height=400)\n",
        "    view.addModel(xyz, \"xyz\")\n",
        "    view.setStyle({'stick':{}})\n",
        "    view.zoomTo()\n",
        "    return(view.show())\n",
        "\n",
        "drawPsi4Geom(molecule)"
      ],
      "metadata": {
        "colab": {
          "base_uri": "https://localhost:8080/",
          "height": 417
        },
        "id": "73DweUDMegRW",
        "outputId": "50b0027c-1154-475d-a496-8c2185f3c1d2"
      },
      "execution_count": 35,
      "outputs": [
        {
          "output_type": "display_data",
          "data": {
            "application/3dmoljs_load.v0": "<div id=\"3dmolviewer_16507027862817874\"  style=\"position: relative; width: 400px; height: 400px\">\n        <p id=\"3dmolwarning_16507027862817874\" style=\"background-color:#ffcccc;color:black\">You appear to be running in JupyterLab (or JavaScript failed to load for some other reason).  You need to install the 3dmol extension: <br>\n        <tt>jupyter labextension install jupyterlab_3dmol</tt></p>\n        </div>\n<script>\n\nvar loadScriptAsync = function(uri){\n  return new Promise((resolve, reject) => {\n    var tag = document.createElement('script');\n    tag.src = uri;\n    tag.async = true;\n    tag.onload = () => {\n      resolve();\n    };\n  var firstScriptTag = document.getElementsByTagName('script')[0];\n  firstScriptTag.parentNode.insertBefore(tag, firstScriptTag);\n});\n};\n\nif(typeof $3Dmolpromise === 'undefined') {\n$3Dmolpromise = null;\n  $3Dmolpromise = loadScriptAsync('https://3dmol.org/build/3Dmol.js');\n}\n\nvar viewer_16507027862817874 = null;\nvar warn = document.getElementById(\"3dmolwarning_16507027862817874\");\nif(warn) {\n    warn.parentNode.removeChild(warn);\n}\n$3Dmolpromise.then(function() {\nviewer_16507027862817874 = $3Dmol.createViewer($(\"#3dmolviewer_16507027862817874\"),{backgroundColor:\"white\"});\nviewer_16507027862817874.zoomTo();\n\tviewer_16507027862817874.addModel(\"21\\n\\n C    3.032393635519    0.379987195250   -1.751175348891\\n C    1.580820720598    0.235305231205   -1.410386269425\\n O    0.661201119534    0.787730265615   -2.005641285461\\n O    1.445422135807   -0.572978573247   -0.290168277060\\n C    0.111854042570   -0.841353090510    0.036837503776\\n C   -0.365196879081   -2.117335767560   -0.273999546926\\n C   -1.668561071975   -2.472883636928    0.077163910815\\n C   -2.486114679461   -1.565394571841    0.753790907850\\n C   -2.003341296834   -0.296713229781    1.080881149099\\n C   -0.703296715872    0.070349984438    0.715381505772\\n C   -0.240599586325    1.409474075394    1.110570146291\\n O   -0.090143146425    1.738673963415    2.273415213567\\n O   -0.086616250508    2.240796670268    0.060519440752\\n H    3.543272093972    0.936392737972   -0.961786379846\\n H    3.483683064785   -0.607005236873   -1.880992125072\\n H    3.129531556998    0.928268818827   -2.692493573424\\n H    0.272835672079   -2.835748520749   -0.781687334207\\n H   -2.045195496321   -3.464149313463   -0.165733385441\\n H   -3.496939248198   -1.850844367536    1.037159109465\\n H   -2.636019986856    0.400613701516    1.626832860999\\n H   -0.230485233841    1.825528885314   -0.823548510286\\n\",\"xyz\");\n\tviewer_16507027862817874.setStyle({\"stick\": {}});\n\tviewer_16507027862817874.zoomTo();\nviewer_16507027862817874.render();\n});\n</script>",
            "text/html": [
              "<div id=\"3dmolviewer_16507027862817874\"  style=\"position: relative; width: 400px; height: 400px\">\n",
              "        <p id=\"3dmolwarning_16507027862817874\" style=\"background-color:#ffcccc;color:black\">You appear to be running in JupyterLab (or JavaScript failed to load for some other reason).  You need to install the 3dmol extension: <br>\n",
              "        <tt>jupyter labextension install jupyterlab_3dmol</tt></p>\n",
              "        </div>\n",
              "<script>\n",
              "\n",
              "var loadScriptAsync = function(uri){\n",
              "  return new Promise((resolve, reject) => {\n",
              "    var tag = document.createElement('script');\n",
              "    tag.src = uri;\n",
              "    tag.async = true;\n",
              "    tag.onload = () => {\n",
              "      resolve();\n",
              "    };\n",
              "  var firstScriptTag = document.getElementsByTagName('script')[0];\n",
              "  firstScriptTag.parentNode.insertBefore(tag, firstScriptTag);\n",
              "});\n",
              "};\n",
              "\n",
              "if(typeof $3Dmolpromise === 'undefined') {\n",
              "$3Dmolpromise = null;\n",
              "  $3Dmolpromise = loadScriptAsync('https://3dmol.org/build/3Dmol.js');\n",
              "}\n",
              "\n",
              "var viewer_16507027862817874 = null;\n",
              "var warn = document.getElementById(\"3dmolwarning_16507027862817874\");\n",
              "if(warn) {\n",
              "    warn.parentNode.removeChild(warn);\n",
              "}\n",
              "$3Dmolpromise.then(function() {\n",
              "viewer_16507027862817874 = $3Dmol.createViewer($(\"#3dmolviewer_16507027862817874\"),{backgroundColor:\"white\"});\n",
              "viewer_16507027862817874.zoomTo();\n",
              "\tviewer_16507027862817874.addModel(\"21\\n\\n C    3.032393635519    0.379987195250   -1.751175348891\\n C    1.580820720598    0.235305231205   -1.410386269425\\n O    0.661201119534    0.787730265615   -2.005641285461\\n O    1.445422135807   -0.572978573247   -0.290168277060\\n C    0.111854042570   -0.841353090510    0.036837503776\\n C   -0.365196879081   -2.117335767560   -0.273999546926\\n C   -1.668561071975   -2.472883636928    0.077163910815\\n C   -2.486114679461   -1.565394571841    0.753790907850\\n C   -2.003341296834   -0.296713229781    1.080881149099\\n C   -0.703296715872    0.070349984438    0.715381505772\\n C   -0.240599586325    1.409474075394    1.110570146291\\n O   -0.090143146425    1.738673963415    2.273415213567\\n O   -0.086616250508    2.240796670268    0.060519440752\\n H    3.543272093972    0.936392737972   -0.961786379846\\n H    3.483683064785   -0.607005236873   -1.880992125072\\n H    3.129531556998    0.928268818827   -2.692493573424\\n H    0.272835672079   -2.835748520749   -0.781687334207\\n H   -2.045195496321   -3.464149313463   -0.165733385441\\n H   -3.496939248198   -1.850844367536    1.037159109465\\n H   -2.636019986856    0.400613701516    1.626832860999\\n H   -0.230485233841    1.825528885314   -0.823548510286\\n\",\"xyz\");\n",
              "\tviewer_16507027862817874.setStyle({\"stick\": {}});\n",
              "\tviewer_16507027862817874.zoomTo();\n",
              "viewer_16507027862817874.render();\n",
              "});\n",
              "</script>"
            ]
          },
          "metadata": {}
        }
      ]
    },
    {
      "cell_type": "code",
      "source": [
        "# Take a look at the calculation time\n",
        "%%time\n",
        "\n",
        "# Hardware side settings (CPU thread count and memory settings used for calculation)\n",
        "psi4.set_num_threads(nthread=2)\n",
        "psi4.set_memory(\"10GB\")\n",
        "\n",
        "# Set calculation method (functional) and basis function\n",
        "level = \"b3lyp/6-31G*\"\n",
        "\n",
        "# Calculation method (functional), example of basis function\n",
        "#theory = ['hf', 'b3lyp']\n",
        "#basis_set = ['sto-3g', '3-21G', '6-31G(d)', '6-31+G(d,p)', '6-311++G(2d,p)']\n",
        "\n",
        "# Perform structural optimization calculations\n",
        "energy, wave_function = psi4.optimize(level, molecule=molecule, return_wfn=True)"
      ],
      "metadata": {
        "colab": {
          "base_uri": "https://localhost:8080/"
        },
        "id": "7vOYFZC2aMr7",
        "outputId": "d360ee44-b60f-48bf-d3fa-480ae6625ba1"
      },
      "execution_count": 26,
      "outputs": [
        {
          "output_type": "stream",
          "name": "stdout",
          "text": [
            "Optimizer: Optimization complete!\n",
            "CPU times: user 22min 3s, sys: 21.5 s, total: 22min 24s\n",
            "Wall time: 11min 54s\n"
          ]
        }
      ]
    },
    {
      "cell_type": "code",
      "source": [
        "#The unit is atomic unit (a.u. or Hartrees)\n",
        "#Energy\n",
        "print(round(energy,3),'a.u.')"
      ],
      "metadata": {
        "colab": {
          "base_uri": "https://localhost:8080/"
        },
        "id": "HlFT-uwtVfk4",
        "outputId": "213c8ea7-611e-4159-97b3-741685a376e8"
      },
      "execution_count": 36,
      "outputs": [
        {
          "output_type": "stream",
          "name": "stdout",
          "text": [
            "-648.689 a.u.\n"
          ]
        }
      ]
    },
    {
      "cell_type": "code",
      "source": [
        "# Display HOMO (Unit: au = Hartree)\n",
        "LUMO_idx = wave_function.nalpha()\n",
        "HOMO_idx = LUMO_idx - 1\n",
        "homo = wave_function.epsilon_a_subset(\"AO\", \"ALL\").np[HOMO_idx]\n",
        "lumo = wave_function.epsilon_a_subset(\"AO\", \"ALL\").np[LUMO_idx]\n",
        "print('homo:',round(homo,5),' a.u.')\n",
        "print('lumo:',round(lumo,5),' a.u.')"
      ],
      "metadata": {
        "colab": {
          "base_uri": "https://localhost:8080/"
        },
        "id": "YOBoPbfAVtht",
        "outputId": "ff2d1cba-de36-4f17-fe30-34c10bd8ba8d"
      },
      "execution_count": 37,
      "outputs": [
        {
          "output_type": "stream",
          "name": "stdout",
          "text": [
            "homo: -0.26021  a.u.\n",
            "lumo: -0.0431  a.u.\n"
          ]
        }
      ]
    },
    {
      "cell_type": "code",
      "source": [
        "psi4.oeprop(wave_function, 'MULLIKEN_CHARGES')\n",
        "mulliken = np.array(wave_function.atomic_point_charges())\n",
        "for i, atom in enumerate(mol.GetAtoms()):\n",
        "    print(atom.GetSymbol(),round(mulliken[i],4))"
      ],
      "metadata": {
        "colab": {
          "base_uri": "https://localhost:8080/"
        },
        "id": "ZyRoBNPYVu-V",
        "outputId": "3ce21930-1c13-44f6-cc6b-33222f559a9d"
      },
      "execution_count": 39,
      "outputs": [
        {
          "output_type": "stream",
          "name": "stdout",
          "text": [
            "C -0.527\n",
            "C 0.6015\n",
            "O -0.4757\n",
            "O -0.5024\n",
            "C 0.2961\n",
            "C -0.147\n",
            "C -0.1334\n",
            "C -0.1206\n",
            "C -0.1706\n",
            "C 0.0274\n",
            "C 0.5345\n",
            "O -0.4395\n",
            "O -0.5899\n",
            "H 0.2051\n",
            "H 0.1907\n",
            "H 0.1951\n",
            "H 0.1468\n",
            "H 0.1476\n",
            "H 0.1462\n",
            "H 0.1705\n",
            "H 0.4445\n"
          ]
        }
      ]
    },
    {
      "cell_type": "code",
      "source": [
        "# similarity map\n",
        "from rdkit.Chem.Draw import SimilarityMaps\n",
        "\n",
        "fig = SimilarityMaps.GetSimilarityMapFromWeights(mol,\n",
        "                                                 mulliken,\n",
        "                                                 colorMap='RdBu')"
      ],
      "metadata": {
        "colab": {
          "base_uri": "https://localhost:8080/",
          "height": 481
        },
        "id": "U3deBU2ijsi7",
        "outputId": "6a55ea5c-39cd-4d06-f599-4af7b089c676"
      },
      "execution_count": 40,
      "outputs": [
        {
          "output_type": "display_data",
          "data": {
            "text/plain": [
              "<Figure size 180x180 with 1 Axes>"
            ],
            "image/png": "[encoded data removed]"
          },
          "metadata": {
            "needs_background": "light"
          }
        }
      ]
    },
    {
      "cell_type": "code",
      "source": [
        "psi4.oeprop(wave_function,'DIPOLE')\n",
        "dipole_vec = psi4.variable('scf dipole')\n",
        "dipole = np.sqrt(np.sum(dipole_vec ** 2))\n",
        "print(f'{dipole:.3f} [D]')"
      ],
      "metadata": {
        "colab": {
          "base_uri": "https://localhost:8080/"
        },
        "id": "as6waCLQiHtA",
        "outputId": "f46c1037-196b-4171-877c-33a1808c91cd"
      },
      "execution_count": 42,
      "outputs": [
        {
          "output_type": "stream",
          "name": "stdout",
          "text": [
            "2.035 [D]\n"
          ]
        }
      ]
    },
    {
      "cell_type": "code",
      "source": [
        "Chem.MolToSmiles(mol)"
      ],
      "metadata": {
        "colab": {
          "base_uri": "https://localhost:8080/",
          "height": 35
        },
        "id": "pDMVo5JgXaIz",
        "outputId": "6d567a8e-8ff4-4c4f-8d9d-7bf1d0de42e5"
      },
      "execution_count": 83,
      "outputs": [
        {
          "output_type": "execute_result",
          "data": {
            "text/plain": [
              "'[H]OC(=O)c1c([H])c([H])c([H])c([H])c1OC(=O)C([H])([H])[H]'"
            ],
            "application/vnd.google.colaboratory.intrinsic+json": {
              "type": "string"
            }
          },
          "metadata": {},
          "execution_count": 83
        }
      ]
    },
    {
      "cell_type": "code",
      "source": [
        "from rdkit.Chem import MACCSkeys\n",
        "# MACCS keys (166 bit)\n",
        "maccs_fp = MACCSkeys.GenMACCSKeys(mol).ToBitString()\n",
        "maccs_fp"
      ],
      "metadata": {
        "colab": {
          "base_uri": "https://localhost:8080/",
          "height": 54
        },
        "id": "bzh7XZKACvtk",
        "outputId": "80830c5d-b4f9-4017-83f4-1404f43bb23c"
      },
      "execution_count": 84,
      "outputs": [
        {
          "output_type": "execute_result",
          "data": {
            "text/plain": [
              "'00000000000000000000000000000000000000000000000000000000000000000000000000000000000000000100000000000000000000001100000000010011000000001001100110100010101001011011110'"
            ],
            "application/vnd.google.colaboratory.intrinsic+json": {
              "type": "string"
            }
          },
          "metadata": {},
          "execution_count": 84
        }
      ]
    },
    {
      "cell_type": "code",
      "source": [
        "ds = list(MACCSkeys.GenMACCSKeys(mol).ToBitString())\n",
        "print(ds)"
      ],
      "metadata": {
        "colab": {
          "base_uri": "https://localhost:8080/"
        },
        "id": "O7PotCUnVMFv",
        "outputId": "7b05a52a-7dbd-4d5b-91c7-a87304140d86"
      },
      "execution_count": 85,
      "outputs": [
        {
          "output_type": "stream",
          "name": "stdout",
          "text": [
            "['0', '0', '0', '0', '0', '0', '0', '0', '0', '0', '0', '0', '0', '0', '0', '0', '0', '0', '0', '0', '0', '0', '0', '0', '0', '0', '0', '0', '0', '0', '0', '0', '0', '0', '0', '0', '0', '0', '0', '0', '0', '0', '0', '0', '0', '0', '0', '0', '0', '0', '0', '0', '0', '0', '0', '0', '0', '0', '0', '0', '0', '0', '0', '0', '0', '0', '0', '0', '0', '0', '0', '0', '0', '0', '0', '0', '0', '0', '0', '0', '0', '0', '0', '0', '0', '0', '0', '0', '0', '1', '0', '0', '0', '0', '0', '0', '0', '0', '0', '0', '0', '0', '0', '0', '0', '0', '0', '0', '0', '0', '0', '0', '1', '1', '0', '0', '0', '0', '0', '0', '0', '0', '0', '1', '0', '0', '1', '1', '0', '0', '0', '0', '0', '0', '0', '0', '1', '0', '0', '1', '1', '0', '0', '1', '1', '0', '1', '0', '0', '0', '1', '0', '1', '0', '1', '0', '0', '1', '0', '1', '1', '0', '1', '1', '1', '1', '0']\n"
          ]
        }
      ]
    },
    {
      "cell_type": "code",
      "source": [
        "maccs_array = []\n",
        "for i in range(166):\n",
        "  maccs_array.append(maccs_fp[i])\n",
        "print(maccs_array)"
      ],
      "metadata": {
        "colab": {
          "base_uri": "https://localhost:8080/"
        },
        "id": "3Pb2kSdIV6V9",
        "outputId": "d075c6d7-873d-4b76-be44-4fbc32829b66"
      },
      "execution_count": 80,
      "outputs": [
        {
          "output_type": "stream",
          "name": "stdout",
          "text": [
            "['0', '0', '0', '0', '0', '0', '0', '0', '0', '0', '0', '0', '0', '0', '0', '0', '0', '0', '0', '0', '0', '0', '0', '0', '0', '0', '0', '0', '0', '0', '0', '0', '0', '0', '0', '0', '0', '0', '0', '0', '0', '0', '0', '0', '0', '0', '0', '0', '0', '0', '0', '0', '0', '0', '0', '0', '0', '0', '0', '0', '0', '0', '0', '0', '0', '0', '0', '0', '0', '0', '0', '0', '0', '0', '0', '0', '0', '0', '0', '0', '0', '0', '0', '0', '0', '0', '0', '0', '0', '1', '0', '0', '0', '0', '0', '0', '0', '0', '0', '0', '0', '0', '0', '0', '0', '0', '0', '0', '0', '0', '0', '0', '1', '1', '0', '0', '0', '0', '0', '0', '0', '0', '0', '1', '0', '0', '1', '1', '0', '0', '0', '0', '0', '0', '0', '0', '1', '0', '0', '1', '1', '0', '0', '1', '1', '0', '1', '0', '0', '0', '1', '0', '1', '0', '1', '0', '0', '1', '0', '1', '1', '0', '1', '1', '1', '1']\n"
          ]
        }
      ]
    },
    {
      "cell_type": "code",
      "source": [
        "df = pd.DataFrame(ds)\n",
        "df"
      ],
      "metadata": {
        "colab": {
          "base_uri": "https://localhost:8080/",
          "height": 424
        },
        "id": "MqhubVeqVfoK",
        "outputId": "851bfdbd-1768-4650-f577-8358639207d5"
      },
      "execution_count": 79,
      "outputs": [
        {
          "output_type": "execute_result",
          "data": {
            "text/plain": [
              "     0\n",
              "0    0\n",
              "1    0\n",
              "2    0\n",
              "3    0\n",
              "4    0\n",
              "..  ..\n",
              "162  1\n",
              "163  1\n",
              "164  1\n",
              "165  1\n",
              "166  0\n",
              "\n",
              "[167 rows x 1 columns]"
            ],
            "text/html": [
              "\n",
              "  <div id=\"df-ef3e18dd-58f8-4051-93c9-7d7654e8fdc7\">\n",
              "    <div class=\"colab-df-container\">\n",
              "      <div>\n",
              "<style scoped>\n",
              "    .dataframe tbody tr th:only-of-type {\n",
              "        vertical-align: middle;\n",
              "    }\n",
              "\n",
              "    .dataframe tbody tr th {\n",
              "        vertical-align: top;\n",
              "    }\n",
              "\n",
              "    .dataframe thead th {\n",
              "        text-align: right;\n",
              "    }\n",
              "</style>\n",
              "<table border=\"1\" class=\"dataframe\">\n",
              "  <thead>\n",
              "    <tr style=\"text-align: right;\">\n",
              "      <th></th>\n",
              "      <th>0</th>\n",
              "    </tr>\n",
              "  </thead>\n",
              "  <tbody>\n",
              "    <tr>\n",
              "      <th>0</th>\n",
              "      <td>0</td>\n",
              "    </tr>\n",
              "    <tr>\n",
              "      <th>1</th>\n",
              "      <td>0</td>\n",
              "    </tr>\n",
              "    <tr>\n",
              "      <th>2</th>\n",
              "      <td>0</td>\n",
              "    </tr>\n",
              "    <tr>\n",
              "      <th>3</th>\n",
              "      <td>0</td>\n",
              "    </tr>\n",
              "    <tr>\n",
              "      <th>4</th>\n",
              "      <td>0</td>\n",
              "    </tr>\n",
              "    <tr>\n",
              "      <th>...</th>\n",
              "      <td>...</td>\n",
              "    </tr>\n",
              "    <tr>\n",
              "      <th>162</th>\n",
              "      <td>1</td>\n",
              "    </tr>\n",
              "    <tr>\n",
              "      <th>163</th>\n",
              "      <td>1</td>\n",
              "    </tr>\n",
              "    <tr>\n",
              "      <th>164</th>\n",
              "      <td>1</td>\n",
              "    </tr>\n",
              "    <tr>\n",
              "      <th>165</th>\n",
              "      <td>1</td>\n",
              "    </tr>\n",
              "    <tr>\n",
              "      <th>166</th>\n",
              "      <td>0</td>\n",
              "    </tr>\n",
              "  </tbody>\n",
              "</table>\n",
              "<p>167 rows × 1 columns</p>\n",
              "</div>\n",
              "      <button class=\"colab-df-convert\" onclick=\"convertToInteractive('df-ef3e18dd-58f8-4051-93c9-7d7654e8fdc7')\"\n",
              "              title=\"Convert this dataframe to an interactive table.\"\n",
              "              style=\"display:none;\">\n",
              "        \n",
              "  <svg xmlns=\"http://www.w3.org/2000/svg\" height=\"24px\"viewBox=\"0 0 24 24\"\n",
              "       width=\"24px\">\n",
              "    <path d=\"M0 0h24v24H0V0z\" fill=\"none\"/>\n",
              "    <path d=\"M18.56 5.44l.94 2.06.94-2.06 2.06-.94-2.06-.94-.94-2.06-.94 2.06-2.06.94zm-11 1L8.5 8.5l.94-2.06 2.06-.94-2.06-.94L8.5 2.5l-.94 2.06-2.06.94zm10 10l.94 2.06.94-2.06 2.06-.94-2.06-.94-.94-2.06-.94 2.06-2.06.94z\"/><path d=\"M17.41 7.96l-1.37-1.37c-.4-.4-.92-.59-1.43-.59-.52 0-1.04.2-1.43.59L10.3 9.45l-7.72 7.72c-.78.78-.78 2.05 0 2.83L4 21.41c.39.39.9.59 1.41.59.51 0 1.02-.2 1.41-.59l7.78-7.78 2.81-2.81c.8-.78.8-2.07 0-2.86zM5.41 20L4 18.59l7.72-7.72 1.47 1.35L5.41 20z\"/>\n",
              "  </svg>\n",
              "      </button>\n",
              "      \n",
              "  <style>\n",
              "    .colab-df-container {\n",
              "      display:flex;\n",
              "      flex-wrap:wrap;\n",
              "      gap: 12px;\n",
              "    }\n",
              "\n",
              "    .colab-df-convert {\n",
              "      background-color: #E8F0FE;\n",
              "      border: none;\n",
              "      border-radius: 50%;\n",
              "      cursor: pointer;\n",
              "      display: none;\n",
              "      fill: #1967D2;\n",
              "      height: 32px;\n",
              "      padding: 0 0 0 0;\n",
              "      width: 32px;\n",
              "    }\n",
              "\n",
              "    .colab-df-convert:hover {\n",
              "      background-color: #E2EBFA;\n",
              "      box-shadow: 0px 1px 2px rgba(60, 64, 67, 0.3), 0px 1px 3px 1px rgba(60, 64, 67, 0.15);\n",
              "      fill: #174EA6;\n",
              "    }\n",
              "\n",
              "    [theme=dark] .colab-df-convert {\n",
              "      background-color: #3B4455;\n",
              "      fill: #D2E3FC;\n",
              "    }\n",
              "\n",
              "    [theme=dark] .colab-df-convert:hover {\n",
              "      background-color: #434B5C;\n",
              "      box-shadow: 0px 1px 3px 1px rgba(0, 0, 0, 0.15);\n",
              "      filter: drop-shadow(0px 1px 2px rgba(0, 0, 0, 0.3));\n",
              "      fill: #FFFFFF;\n",
              "    }\n",
              "  </style>\n",
              "\n",
              "      <script>\n",
              "        const buttonEl =\n",
              "          document.querySelector('#df-ef3e18dd-58f8-4051-93c9-7d7654e8fdc7 button.colab-df-convert');\n",
              "        buttonEl.style.display =\n",
              "          google.colab.kernel.accessAllowed ? 'block' : 'none';\n",
              "\n",
              "        async function convertToInteractive(key) {\n",
              "          const element = document.querySelector('#df-ef3e18dd-58f8-4051-93c9-7d7654e8fdc7');\n",
              "          const dataTable =\n",
              "            await google.colab.kernel.invokeFunction('convertToInteractive',\n",
              "                                                     [key], {});\n",
              "          if (!dataTable) return;\n",
              "\n",
              "          const docLinkHtml = 'Like what you see? Visit the ' +\n",
              "            '<a target=\"_blank\" href=https://colab.research.google.com/notebooks/data_table.ipynb>data table notebook</a>'\n",
              "            + ' to learn more about interactive tables.';\n",
              "          element.innerHTML = '';\n",
              "          dataTable['output_type'] = 'display_data';\n",
              "          await google.colab.output.renderOutput(dataTable, element);\n",
              "          const docLink = document.createElement('div');\n",
              "          docLink.innerHTML = docLinkHtml;\n",
              "          element.appendChild(docLink);\n",
              "        }\n",
              "      </script>\n",
              "    </div>\n",
              "  </div>\n",
              "  "
            ]
          },
          "metadata": {},
          "execution_count": 79
        }
      ]
    }
  ]
}